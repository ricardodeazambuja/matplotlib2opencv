{
 "cells": [
  {
   "cell_type": "markdown",
   "metadata": {},
   "source": [
    "# Using matplotlib to anotate on opencv"
   ]
  },
  {
   "cell_type": "code",
   "execution_count": 1,
   "metadata": {
    "collapsed": false
   },
   "outputs": [
    {
     "name": "stdout",
     "output_type": "stream",
     "text": [
      "Overwriting matplotlib2opencv.py\n"
     ]
    }
   ],
   "source": [
    "%%file matplotlib2opencv.py\n",
    "\n",
    "import cv2\n",
    "import numpy\n",
    "import matplotlib.pyplot as plt\n",
    "\n",
    "# The idea for this hack came from this code: https://gist.github.com/joferkington/9138655\n",
    "\n",
    "def annotate_mpl2cv(img_cv,text,text_posX,text_posY,text_font):\n",
    "    '''\n",
    "    Annotates an OpenCV image using Matplotlib!\n",
    "    \n",
    "    Parameters:\n",
    "    \n",
    "    img_cv: OpenCV image\n",
    "    \n",
    "    text: text to be added\n",
    "    \n",
    "    text_posX: X position\n",
    "    text_posY: Y position\n",
    "    text_font: font dictionary\n",
    "    \n",
    "    Examples:\n",
    "    text_font = {'family': 'serif',\n",
    "                 'color':  'white',\n",
    "                 'weight': 'bold',\n",
    "                 'size': 30,\n",
    "                }\n",
    "\n",
    "    text = r'an equation: $E=mc^2$'\n",
    "    \n",
    "    '''\n",
    "\n",
    "    img_plt = cv2.cvtColor(img_cv, cv2.COLOR_BGR2RGB ) # converts to numpy style\n",
    "\n",
    "    fig = plt.figure(figsize=(img_cv.shape[1]/100., img_cv.shape[0]/100.), dpi=100)\n",
    "\n",
    "    ax = plt.gca()\n",
    "    ax.imshow(img_plt)\n",
    "    ax.text(text_posX, text_posY, text, fontdict=text_font)\n",
    "    plt.axis('off')\n",
    "    fig.canvas.draw()\n",
    "    buf = fig.canvas.tostring_rgb()\n",
    "    ncols, nrows = fig.canvas.get_width_height()\n",
    "    img_cv[:] = cv2.cvtColor(\n",
    "                    numpy.fromstring(buf, dtype=numpy.uint8).reshape(nrows, ncols, 3),\n",
    "                    cv2.COLOR_BGR2RGB)\n",
    "    plt.close()\n",
    "    \n",
    "    return img_cv"
   ]
  },
  {
   "cell_type": "code",
   "execution_count": 5,
   "metadata": {
    "collapsed": false
   },
   "outputs": [],
   "source": [
    "import cv2\n",
    "import numpy\n",
    "import matplotlib.pyplot as plt\n",
    "\n",
    "\n",
    "from matplotlib2opencv import annotate_mpl2cv"
   ]
  },
  {
   "cell_type": "code",
   "execution_count": 6,
   "metadata": {
    "collapsed": false
   },
   "outputs": [],
   "source": [
    "cv2.startWindowThread()\n",
    "cv2.namedWindow(\"Live Video\", cv2.WINDOW_NORMAL)"
   ]
  },
  {
   "cell_type": "code",
   "execution_count": 7,
   "metadata": {
    "collapsed": true
   },
   "outputs": [],
   "source": [
    "example_font = {'family': 'serif',\n",
    "                'color':  'white',\n",
    "                'weight': 'bold',\n",
    "                'size': 30,\n",
    "               }\n",
    "\n",
    "example_text = r'an equation: $E=mc^2$'"
   ]
  },
  {
   "cell_type": "code",
   "execution_count": 8,
   "metadata": {
    "collapsed": true
   },
   "outputs": [],
   "source": [
    "capture = cv2.VideoCapture(0)"
   ]
  },
  {
   "cell_type": "code",
   "execution_count": 9,
   "metadata": {
    "collapsed": false
   },
   "outputs": [],
   "source": [
    "import datetime"
   ]
  },
  {
   "cell_type": "code",
   "execution_count": 10,
   "metadata": {
    "collapsed": false
   },
   "outputs": [],
   "source": [
    "while True:\n",
    "    grabbed, frame = capture.read()\n",
    "    \n",
    "    cv2.imshow(\"Live Video\",annotate_mpl2cv(frame,str(datetime.datetime.now()),100,100,example_font))\n",
    "    \n",
    "    key = cv2.waitKey(1) & 0xFF\n",
    "    # if the 'q' key is pressed, stop the loop\n",
    "    if key == ord(\"q\"):\n",
    "        break"
   ]
  },
  {
   "cell_type": "code",
   "execution_count": 11,
   "metadata": {
    "collapsed": true
   },
   "outputs": [],
   "source": [
    "capture.release() # closes the camera, video file, etc"
   ]
  }
 ],
 "metadata": {
  "kernelspec": {
   "display_name": "Python 2",
   "language": "python",
   "name": "python2"
  },
  "language_info": {
   "codemirror_mode": {
    "name": "ipython",
    "version": 2
   },
   "file_extension": ".py",
   "mimetype": "text/x-python",
   "name": "python",
   "nbconvert_exporter": "python",
   "pygments_lexer": "ipython2",
   "version": "2.7.12"
  }
 },
 "nbformat": 4,
 "nbformat_minor": 0
}
